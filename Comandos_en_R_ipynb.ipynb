{
  "nbformat": 4,
  "nbformat_minor": 0,
  "metadata": {
    "colab": {
      "provenance": [],
      "authorship_tag": "ABX9TyMXCUCtPIJwLgNwywslBaeD",
      "include_colab_link": true
    },
    "kernelspec": {
      "name": "ir",
      "display_name": "R"
    },
    "language_info": {
      "name": "R"
    }
  },
  "cells": [
    {
      "cell_type": "markdown",
      "metadata": {
        "id": "view-in-github",
        "colab_type": "text"
      },
      "source": [
        "<a href=\"https://colab.research.google.com/github/Spencer272/Comandos_en_R/blob/main/Comandos_en_R_ipynb.ipynb\" target=\"_parent\"><img src=\"https://colab.research.google.com/assets/colab-badge.svg\" alt=\"Open In Colab\"/></a>"
      ]
    },
    {
      "cell_type": "code",
      "execution_count": null,
      "metadata": {
        "colab": {
          "base_uri": "https://localhost:8080/",
          "height": 34
        },
        "id": "bAAvzy5W4LrP",
        "outputId": "89e52864-91aa-453d-9595-e57464fb4b09"
      },
      "outputs": [
        {
          "output_type": "display_data",
          "data": {
            "text/html": [
              "84833080902705296"
            ],
            "text/markdown": "84833080902705296",
            "text/latex": "84833080902705296",
            "text/plain": [
              "[1] 8.483308e+16"
            ]
          },
          "metadata": {}
        }
      ],
      "source": [
        "(3 + exp(2)) / sin(pi)"
      ]
    },
    {
      "cell_type": "code",
      "source": [
        "round(1789.1234, digits = 3)"
      ],
      "metadata": {
        "colab": {
          "base_uri": "https://localhost:8080/",
          "height": 34
        },
        "id": "vOZBrD3d4kwt",
        "outputId": "3dabdad3-6e4b-4388-cd99-93cb61acadc4"
      },
      "execution_count": null,
      "outputs": [
        {
          "output_type": "display_data",
          "data": {
            "text/html": [
              "1789.123"
            ],
            "text/markdown": "1789.123",
            "text/latex": "1789.123",
            "text/plain": [
              "[1] 1789.123"
            ]
          },
          "metadata": {}
        }
      ]
    },
    {
      "cell_type": "code",
      "source": [
        "x = c(123.4567890, 1.0)\n",
        "format(x) # using defaults\n",
        "## [1] \"123.4568\" \" 1.0000\"\n",
        "format(x[1]) # using defaults\n",
        "## [1] \"123.4568\"\n",
        "format(x[2]) # using defaults\n",
        "## [1] \"1\"\n",
        "format(x, digits = 3, nsmall = 1)\n",
        "## [1] \"123.5\" \" 1.0\"\n",
        "format(x[1], digits = 3, nsmall = 1)\n",
        "## [1] \"123.5\"\n",
        "format(x[2], digits = 3, nsmall = 1)\n",
        "## [1] \"1.0\"\n",
        "format(x, digits = 3, scientific = TRUE)\n",
        "## [1] \"1.23e+02\" \"1.00e+00\"\n",
        "x = c(123.4567890, 1.0)\n",
        "sprintf(\"The numbers are: %4.2f and %.0f\", x[1], x[2])\n",
        "## [1] \"The numbers are: 123.46 and 1\"\n",
        "sprintf(\"The numbers are: %.4g and %.2g\", x[1], x[2])\n",
        "## [1] \"The numbers are: 123.5 and 1\"\n",
        "sprintf(\"The numbers are: %4.2e and %.0e\", x[1], x[2])\n",
        "## [1] \"The numbers are: 1.23e+02 and 1e+00\""
      ],
      "metadata": {
        "colab": {
          "base_uri": "https://localhost:8080/",
          "height": 191
        },
        "id": "aHQgoQm05iBl",
        "outputId": "3c575290-03c6-4489-e6e3-a912c9d69a08"
      },
      "execution_count": 21,
      "outputs": [
        {
          "output_type": "display_data",
          "data": {
            "text/html": [
              "<style>\n",
              ".list-inline {list-style: none; margin:0; padding: 0}\n",
              ".list-inline>li {display: inline-block}\n",
              ".list-inline>li:not(:last-child)::after {content: \"\\00b7\"; padding: 0 .5ex}\n",
              "</style>\n",
              "<ol class=list-inline><li>'123.4568'</li><li><span style=white-space:pre-wrap>'  1.0000'</span></li></ol>\n"
            ],
            "text/markdown": "1. '123.4568'\n2. <span style=white-space:pre-wrap>'  1.0000'</span>\n\n\n",
            "text/latex": "\\begin{enumerate*}\n\\item '123.4568'\n\\item '  1.0000'\n\\end{enumerate*}\n",
            "text/plain": [
              "[1] \"123.4568\" \"  1.0000\""
            ]
          },
          "metadata": {}
        },
        {
          "output_type": "display_data",
          "data": {
            "text/html": [
              "'123.4568'"
            ],
            "text/markdown": "'123.4568'",
            "text/latex": "'123.4568'",
            "text/plain": [
              "[1] \"123.4568\""
            ]
          },
          "metadata": {}
        },
        {
          "output_type": "display_data",
          "data": {
            "text/html": [
              "'1'"
            ],
            "text/markdown": "'1'",
            "text/latex": "'1'",
            "text/plain": [
              "[1] \"1\""
            ]
          },
          "metadata": {}
        },
        {
          "output_type": "display_data",
          "data": {
            "text/html": [
              "<style>\n",
              ".list-inline {list-style: none; margin:0; padding: 0}\n",
              ".list-inline>li {display: inline-block}\n",
              ".list-inline>li:not(:last-child)::after {content: \"\\00b7\"; padding: 0 .5ex}\n",
              "</style>\n",
              "<ol class=list-inline><li>'123.5'</li><li><span style=white-space:pre-wrap>'  1.0'</span></li></ol>\n"
            ],
            "text/markdown": "1. '123.5'\n2. <span style=white-space:pre-wrap>'  1.0'</span>\n\n\n",
            "text/latex": "\\begin{enumerate*}\n\\item '123.5'\n\\item '  1.0'\n\\end{enumerate*}\n",
            "text/plain": [
              "[1] \"123.5\" \"  1.0\""
            ]
          },
          "metadata": {}
        },
        {
          "output_type": "display_data",
          "data": {
            "text/html": [
              "'123.5'"
            ],
            "text/markdown": "'123.5'",
            "text/latex": "'123.5'",
            "text/plain": [
              "[1] \"123.5\""
            ]
          },
          "metadata": {}
        },
        {
          "output_type": "display_data",
          "data": {
            "text/html": [
              "'1.0'"
            ],
            "text/markdown": "'1.0'",
            "text/latex": "'1.0'",
            "text/plain": [
              "[1] \"1.0\""
            ]
          },
          "metadata": {}
        },
        {
          "output_type": "display_data",
          "data": {
            "text/html": [
              "<style>\n",
              ".list-inline {list-style: none; margin:0; padding: 0}\n",
              ".list-inline>li {display: inline-block}\n",
              ".list-inline>li:not(:last-child)::after {content: \"\\00b7\"; padding: 0 .5ex}\n",
              "</style>\n",
              "<ol class=list-inline><li>'1.23e+02'</li><li>'1.00e+00'</li></ol>\n"
            ],
            "text/markdown": "1. '1.23e+02'\n2. '1.00e+00'\n\n\n",
            "text/latex": "\\begin{enumerate*}\n\\item '1.23e+02'\n\\item '1.00e+00'\n\\end{enumerate*}\n",
            "text/plain": [
              "[1] \"1.23e+02\" \"1.00e+00\""
            ]
          },
          "metadata": {}
        },
        {
          "output_type": "display_data",
          "data": {
            "text/html": [
              "'The numbers are: 123.46 and 1'"
            ],
            "text/markdown": "'The numbers are: 123.46 and 1'",
            "text/latex": "'The numbers are: 123.46 and 1'",
            "text/plain": [
              "[1] \"The numbers are: 123.46 and 1\""
            ]
          },
          "metadata": {}
        },
        {
          "output_type": "display_data",
          "data": {
            "text/html": [
              "'The numbers are: 123.5 and 1'"
            ],
            "text/markdown": "'The numbers are: 123.5 and 1'",
            "text/latex": "'The numbers are: 123.5 and 1'",
            "text/plain": [
              "[1] \"The numbers are: 123.5 and 1\""
            ]
          },
          "metadata": {}
        },
        {
          "output_type": "display_data",
          "data": {
            "text/html": [
              "'The numbers are: 1.23e+02 and 1e+00'"
            ],
            "text/markdown": "'The numbers are: 1.23e+02 and 1e+00'",
            "text/latex": "'The numbers are: 1.23e+02 and 1e+00'",
            "text/plain": [
              "[1] \"The numbers are: 1.23e+02 and 1e+00\""
            ]
          },
          "metadata": {}
        }
      ]
    },
    {
      "cell_type": "code",
      "source": [
        "a <- letters[1:10]\n",
        "b <- 1:10\n",
        "selector <- a > \"c\"\n",
        "selector\n",
        "a[selector]\n",
        "b[selector]\n",
        "\n"
      ],
      "metadata": {
        "colab": {
          "base_uri": "https://localhost:8080/",
          "height": 121
        },
        "id": "_HK2hYm67T-1",
        "outputId": "0da05fd3-abee-49f1-cc5d-e56b0510ffa6"
      },
      "execution_count": null,
      "outputs": [
        {
          "output_type": "display_data",
          "data": {
            "text/html": [
              "<style>\n",
              ".list-inline {list-style: none; margin:0; padding: 0}\n",
              ".list-inline>li {display: inline-block}\n",
              ".list-inline>li:not(:last-child)::after {content: \"\\00b7\"; padding: 0 .5ex}\n",
              "</style>\n",
              "<ol class=list-inline><li>FALSE</li><li>FALSE</li><li>FALSE</li><li>TRUE</li><li>TRUE</li><li>TRUE</li><li>TRUE</li><li>TRUE</li><li>TRUE</li><li>TRUE</li></ol>\n"
            ],
            "text/markdown": "1. FALSE\n2. FALSE\n3. FALSE\n4. TRUE\n5. TRUE\n6. TRUE\n7. TRUE\n8. TRUE\n9. TRUE\n10. TRUE\n\n\n",
            "text/latex": "\\begin{enumerate*}\n\\item FALSE\n\\item FALSE\n\\item FALSE\n\\item TRUE\n\\item TRUE\n\\item TRUE\n\\item TRUE\n\\item TRUE\n\\item TRUE\n\\item TRUE\n\\end{enumerate*}\n",
            "text/plain": [
              " [1] FALSE FALSE FALSE  TRUE  TRUE  TRUE  TRUE  TRUE  TRUE  TRUE"
            ]
          },
          "metadata": {}
        },
        {
          "output_type": "display_data",
          "data": {
            "text/html": [
              "<style>\n",
              ".list-inline {list-style: none; margin:0; padding: 0}\n",
              ".list-inline>li {display: inline-block}\n",
              ".list-inline>li:not(:last-child)::after {content: \"\\00b7\"; padding: 0 .5ex}\n",
              "</style>\n",
              "<ol class=list-inline><li>'d'</li><li>'e'</li><li>'f'</li><li>'g'</li><li>'h'</li><li>'i'</li><li>'j'</li></ol>\n"
            ],
            "text/markdown": "1. 'd'\n2. 'e'\n3. 'f'\n4. 'g'\n5. 'h'\n6. 'i'\n7. 'j'\n\n\n",
            "text/latex": "\\begin{enumerate*}\n\\item 'd'\n\\item 'e'\n\\item 'f'\n\\item 'g'\n\\item 'h'\n\\item 'i'\n\\item 'j'\n\\end{enumerate*}\n",
            "text/plain": [
              "[1] \"d\" \"e\" \"f\" \"g\" \"h\" \"i\" \"j\""
            ]
          },
          "metadata": {}
        },
        {
          "output_type": "display_data",
          "data": {
            "text/html": [
              "<style>\n",
              ".list-inline {list-style: none; margin:0; padding: 0}\n",
              ".list-inline>li {display: inline-block}\n",
              ".list-inline>li:not(:last-child)::after {content: \"\\00b7\"; padding: 0 .5ex}\n",
              "</style>\n",
              "<ol class=list-inline><li>4</li><li>5</li><li>6</li><li>7</li><li>8</li><li>9</li><li>10</li></ol>\n"
            ],
            "text/markdown": "1. 4\n2. 5\n3. 6\n4. 7\n5. 8\n6. 9\n7. 10\n\n\n",
            "text/latex": "\\begin{enumerate*}\n\\item 4\n\\item 5\n\\item 6\n\\item 7\n\\item 8\n\\item 9\n\\item 10\n\\end{enumerate*}\n",
            "text/plain": [
              "[1]  4  5  6  7  8  9 10"
            ]
          },
          "metadata": {}
        },
        {
          "output_type": "display_data",
          "data": {
            "text/html": [
              "<style>\n",
              ".list-inline {list-style: none; margin:0; padding: 0}\n",
              ".list-inline>li {display: inline-block}\n",
              ".list-inline>li:not(:last-child)::after {content: \"\\00b7\"; padding: 0 .5ex}\n",
              "</style>\n",
              "<ol class=list-inline><li>4</li><li>5</li><li>6</li><li>7</li><li>8</li><li>9</li><li>10</li></ol>\n"
            ],
            "text/markdown": "1. 4\n2. 5\n3. 6\n4. 7\n5. 8\n6. 9\n7. 10\n\n\n",
            "text/latex": "\\begin{enumerate*}\n\\item 4\n\\item 5\n\\item 6\n\\item 7\n\\item 8\n\\item 9\n\\item 10\n\\end{enumerate*}\n",
            "text/plain": [
              "[1]  4  5  6  7  8  9 10"
            ]
          },
          "metadata": {}
        },
        {
          "output_type": "display_data",
          "data": {
            "text/html": [
              "<style>\n",
              ".list-inline {list-style: none; margin:0; padding: 0}\n",
              ".list-inline>li {display: inline-block}\n",
              ".list-inline>li:not(:last-child)::after {content: \"\\00b7\"; padding: 0 .5ex}\n",
              "</style>\n",
              "<ol class=list-inline><li>'d'</li><li>'e'</li><li>'f'</li><li>'g'</li><li>'h'</li><li>'i'</li><li>'j'</li></ol>\n"
            ],
            "text/markdown": "1. 'd'\n2. 'e'\n3. 'f'\n4. 'g'\n5. 'h'\n6. 'i'\n7. 'j'\n\n\n",
            "text/latex": "\\begin{enumerate*}\n\\item 'd'\n\\item 'e'\n\\item 'f'\n\\item 'g'\n\\item 'h'\n\\item 'i'\n\\item 'j'\n\\end{enumerate*}\n",
            "text/plain": [
              "[1] \"d\" \"e\" \"f\" \"g\" \"h\" \"i\" \"j\""
            ]
          },
          "metadata": {}
        },
        {
          "output_type": "display_data",
          "data": {
            "text/html": [
              "<style>\n",
              ".list-inline {list-style: none; margin:0; padding: 0}\n",
              ".list-inline>li {display: inline-block}\n",
              ".list-inline>li:not(:last-child)::after {content: \"\\00b7\"; padding: 0 .5ex}\n",
              "</style>\n",
              "<ol class=list-inline><li>4</li><li>5</li><li>6</li><li>7</li><li>8</li><li>9</li><li>10</li></ol>\n"
            ],
            "text/markdown": "1. 4\n2. 5\n3. 6\n4. 7\n5. 8\n6. 9\n7. 10\n\n\n",
            "text/latex": "\\begin{enumerate*}\n\\item 4\n\\item 5\n\\item 6\n\\item 7\n\\item 8\n\\item 9\n\\item 10\n\\end{enumerate*}\n",
            "text/plain": [
              "[1]  4  5  6  7  8  9 10"
            ]
          },
          "metadata": {}
        }
      ]
    },
    {
      "cell_type": "code",
      "source": [
        "indexes <- which(a > \"c\")\n",
        "indexes\n",
        "a[indexes]\n",
        "b[indexes]"
      ],
      "metadata": {
        "colab": {
          "base_uri": "https://localhost:8080/",
          "height": 69
        },
        "id": "ab1b3kT3NuKb",
        "outputId": "f0e4a1ca-2300-4b85-9eb1-693a958c4581"
      },
      "execution_count": 22,
      "outputs": [
        {
          "output_type": "display_data",
          "data": {
            "text/html": [
              "<style>\n",
              ".list-inline {list-style: none; margin:0; padding: 0}\n",
              ".list-inline>li {display: inline-block}\n",
              ".list-inline>li:not(:last-child)::after {content: \"\\00b7\"; padding: 0 .5ex}\n",
              "</style>\n",
              "<ol class=list-inline><li>4</li><li>5</li><li>6</li><li>7</li><li>8</li><li>9</li><li>10</li></ol>\n"
            ],
            "text/markdown": "1. 4\n2. 5\n3. 6\n4. 7\n5. 8\n6. 9\n7. 10\n\n\n",
            "text/latex": "\\begin{enumerate*}\n\\item 4\n\\item 5\n\\item 6\n\\item 7\n\\item 8\n\\item 9\n\\item 10\n\\end{enumerate*}\n",
            "text/plain": [
              "[1]  4  5  6  7  8  9 10"
            ]
          },
          "metadata": {}
        },
        {
          "output_type": "display_data",
          "data": {
            "text/html": [
              "<style>\n",
              ".list-inline {list-style: none; margin:0; padding: 0}\n",
              ".list-inline>li {display: inline-block}\n",
              ".list-inline>li:not(:last-child)::after {content: \"\\00b7\"; padding: 0 .5ex}\n",
              "</style>\n",
              "<ol class=list-inline><li>'d'</li><li>'e'</li><li>'f'</li><li>'g'</li><li>'h'</li><li>'i'</li><li>'j'</li></ol>\n"
            ],
            "text/markdown": "1. 'd'\n2. 'e'\n3. 'f'\n4. 'g'\n5. 'h'\n6. 'i'\n7. 'j'\n\n\n",
            "text/latex": "\\begin{enumerate*}\n\\item 'd'\n\\item 'e'\n\\item 'f'\n\\item 'g'\n\\item 'h'\n\\item 'i'\n\\item 'j'\n\\end{enumerate*}\n",
            "text/plain": [
              "[1] \"d\" \"e\" \"f\" \"g\" \"h\" \"i\" \"j\""
            ]
          },
          "metadata": {}
        },
        {
          "output_type": "display_data",
          "data": {
            "text/html": [
              "<style>\n",
              ".list-inline {list-style: none; margin:0; padding: 0}\n",
              ".list-inline>li {display: inline-block}\n",
              ".list-inline>li:not(:last-child)::after {content: \"\\00b7\"; padding: 0 .5ex}\n",
              "</style>\n",
              "<ol class=list-inline><li>4</li><li>5</li><li>6</li><li>7</li><li>8</li><li>9</li><li>10</li></ol>\n"
            ],
            "text/markdown": "1. 4\n2. 5\n3. 6\n4. 7\n5. 8\n6. 9\n7. 10\n\n\n",
            "text/latex": "\\begin{enumerate*}\n\\item 4\n\\item 5\n\\item 6\n\\item 7\n\\item 8\n\\item 9\n\\item 10\n\\end{enumerate*}\n",
            "text/plain": [
              "[1]  4  5  6  7  8  9 10"
            ]
          },
          "metadata": {}
        }
      ]
    },
    {
      "cell_type": "code",
      "source": [
        "A <- matrix(1:20, ncol = 4)\n",
        "A\n",
        "one.col.matrix <- matrix(1:6, ncol = 1)\n",
        "dim(one.col.matrix)\n",
        "## [1] 6 1\n",
        "two.col.matrix <- matrix(1:6, ncol = 2)\n",
        "dim(two.col.matrix)\n",
        "## [1] 3 2\n",
        "one.elem.matrix <- matrix(1, ncol = 1)\n",
        "dim(one.elem.matrix)\n",
        "## [1] 1 1\n",
        "no.elem.matrix <- matrix(numeric(), ncol = 0)\n",
        "dim(no.elem.matrix)\n",
        "## [1] 0 0"
      ],
      "metadata": {
        "colab": {
          "base_uri": "https://localhost:8080/",
          "height": 278
        },
        "id": "nh1dy9Q68kxJ",
        "outputId": "6381fef2-78ab-4794-96ae-c8202551563a"
      },
      "execution_count": 23,
      "outputs": [
        {
          "output_type": "display_data",
          "data": {
            "text/html": [
              "<table class=\"dataframe\">\n",
              "<caption>A matrix: 5 × 4 of type int</caption>\n",
              "<tbody>\n",
              "\t<tr><td>1</td><td> 6</td><td>11</td><td>16</td></tr>\n",
              "\t<tr><td>2</td><td> 7</td><td>12</td><td>17</td></tr>\n",
              "\t<tr><td>3</td><td> 8</td><td>13</td><td>18</td></tr>\n",
              "\t<tr><td>4</td><td> 9</td><td>14</td><td>19</td></tr>\n",
              "\t<tr><td>5</td><td>10</td><td>15</td><td>20</td></tr>\n",
              "</tbody>\n",
              "</table>\n"
            ],
            "text/markdown": "\nA matrix: 5 × 4 of type int\n\n| 1 |  6 | 11 | 16 |\n| 2 |  7 | 12 | 17 |\n| 3 |  8 | 13 | 18 |\n| 4 |  9 | 14 | 19 |\n| 5 | 10 | 15 | 20 |\n\n",
            "text/latex": "A matrix: 5 × 4 of type int\n\\begin{tabular}{llll}\n\t 1 &  6 & 11 & 16\\\\\n\t 2 &  7 & 12 & 17\\\\\n\t 3 &  8 & 13 & 18\\\\\n\t 4 &  9 & 14 & 19\\\\\n\t 5 & 10 & 15 & 20\\\\\n\\end{tabular}\n",
            "text/plain": [
              "     [,1] [,2] [,3] [,4]\n",
              "[1,] 1     6   11   16  \n",
              "[2,] 2     7   12   17  \n",
              "[3,] 3     8   13   18  \n",
              "[4,] 4     9   14   19  \n",
              "[5,] 5    10   15   20  "
            ]
          },
          "metadata": {}
        },
        {
          "output_type": "display_data",
          "data": {
            "text/html": [
              "<style>\n",
              ".list-inline {list-style: none; margin:0; padding: 0}\n",
              ".list-inline>li {display: inline-block}\n",
              ".list-inline>li:not(:last-child)::after {content: \"\\00b7\"; padding: 0 .5ex}\n",
              "</style>\n",
              "<ol class=list-inline><li>6</li><li>1</li></ol>\n"
            ],
            "text/markdown": "1. 6\n2. 1\n\n\n",
            "text/latex": "\\begin{enumerate*}\n\\item 6\n\\item 1\n\\end{enumerate*}\n",
            "text/plain": [
              "[1] 6 1"
            ]
          },
          "metadata": {}
        },
        {
          "output_type": "display_data",
          "data": {
            "text/html": [
              "<style>\n",
              ".list-inline {list-style: none; margin:0; padding: 0}\n",
              ".list-inline>li {display: inline-block}\n",
              ".list-inline>li:not(:last-child)::after {content: \"\\00b7\"; padding: 0 .5ex}\n",
              "</style>\n",
              "<ol class=list-inline><li>3</li><li>2</li></ol>\n"
            ],
            "text/markdown": "1. 3\n2. 2\n\n\n",
            "text/latex": "\\begin{enumerate*}\n\\item 3\n\\item 2\n\\end{enumerate*}\n",
            "text/plain": [
              "[1] 3 2"
            ]
          },
          "metadata": {}
        },
        {
          "output_type": "display_data",
          "data": {
            "text/html": [
              "<style>\n",
              ".list-inline {list-style: none; margin:0; padding: 0}\n",
              ".list-inline>li {display: inline-block}\n",
              ".list-inline>li:not(:last-child)::after {content: \"\\00b7\"; padding: 0 .5ex}\n",
              "</style>\n",
              "<ol class=list-inline><li>1</li><li>1</li></ol>\n"
            ],
            "text/markdown": "1. 1\n2. 1\n\n\n",
            "text/latex": "\\begin{enumerate*}\n\\item 1\n\\item 1\n\\end{enumerate*}\n",
            "text/plain": [
              "[1] 1 1"
            ]
          },
          "metadata": {}
        },
        {
          "output_type": "display_data",
          "data": {
            "text/html": [
              "<style>\n",
              ".list-inline {list-style: none; margin:0; padding: 0}\n",
              ".list-inline>li {display: inline-block}\n",
              ".list-inline>li:not(:last-child)::after {content: \"\\00b7\"; padding: 0 .5ex}\n",
              "</style>\n",
              "<ol class=list-inline><li>0</li><li>0</li></ol>\n"
            ],
            "text/markdown": "1. 0\n2. 0\n\n\n",
            "text/latex": "\\begin{enumerate*}\n\\item 0\n\\item 0\n\\end{enumerate*}\n",
            "text/plain": [
              "[1] 0 0"
            ]
          },
          "metadata": {}
        }
      ]
    },
    {
      "cell_type": "code",
      "source": [
        "B <- array(1:27, dim = c(3, 3, 3))\n",
        "B"
      ],
      "metadata": {
        "colab": {
          "base_uri": "https://localhost:8080/",
          "height": 34
        },
        "id": "khm7pXZh8vmv",
        "outputId": "9cf446b3-84b8-4bd6-8e6e-ccded0c0eb00"
      },
      "execution_count": null,
      "outputs": [
        {
          "output_type": "display_data",
          "data": {
            "text/html": [
              "<style>\n",
              ".list-inline {list-style: none; margin:0; padding: 0}\n",
              ".list-inline>li {display: inline-block}\n",
              ".list-inline>li:not(:last-child)::after {content: \"\\00b7\"; padding: 0 .5ex}\n",
              "</style>\n",
              "<ol class=list-inline><li>1</li><li>2</li><li>3</li><li>4</li><li>5</li><li>6</li><li>7</li><li>8</li><li>9</li><li>10</li><li>11</li><li>12</li><li>13</li><li>14</li><li>15</li><li>16</li><li>17</li><li>18</li><li>19</li><li>20</li><li>21</li><li>22</li><li>23</li><li>24</li><li>25</li><li>26</li><li>27</li></ol>\n"
            ],
            "text/markdown": "1. 1\n2. 2\n3. 3\n4. 4\n5. 5\n6. 6\n7. 7\n8. 8\n9. 9\n10. 10\n11. 11\n12. 12\n13. 13\n14. 14\n15. 15\n16. 16\n17. 17\n18. 18\n19. 19\n20. 20\n21. 21\n22. 22\n23. 23\n24. 24\n25. 25\n26. 26\n27. 27\n\n\n",
            "text/latex": "\\begin{enumerate*}\n\\item 1\n\\item 2\n\\item 3\n\\item 4\n\\item 5\n\\item 6\n\\item 7\n\\item 8\n\\item 9\n\\item 10\n\\item 11\n\\item 12\n\\item 13\n\\item 14\n\\item 15\n\\item 16\n\\item 17\n\\item 18\n\\item 19\n\\item 20\n\\item 21\n\\item 22\n\\item 23\n\\item 24\n\\item 25\n\\item 26\n\\item 27\n\\end{enumerate*}\n",
            "text/plain": [
              ", , 1\n",
              "\n",
              "     [,1] [,2] [,3]\n",
              "[1,]    1    4    7\n",
              "[2,]    2    5    8\n",
              "[3,]    3    6    9\n",
              "\n",
              ", , 2\n",
              "\n",
              "     [,1] [,2] [,3]\n",
              "[1,]   10   13   16\n",
              "[2,]   11   14   17\n",
              "[3,]   12   15   18\n",
              "\n",
              ", , 3\n",
              "\n",
              "     [,1] [,2] [,3]\n",
              "[1,]   19   22   25\n",
              "[2,]   20   23   26\n",
              "[3,]   21   24   27\n"
            ]
          },
          "metadata": {}
        }
      ]
    },
    {
      "cell_type": "code",
      "source": [
        "my.vector <- c(1, 1, 0, 0, 0, 1)\n",
        "my.factor <- factor(x = my.vector, levels = c(1, 0), labels = c(\"treated\", \"control\"))\n",
        "my.factor"
      ],
      "metadata": {
        "colab": {
          "base_uri": "https://localhost:8080/",
          "height": 69
        },
        "id": "NKbW2sdR9By9",
        "outputId": "0eef1392-9a4d-4719-a4cc-bce1c488a38e"
      },
      "execution_count": null,
      "outputs": [
        {
          "output_type": "display_data",
          "data": {
            "text/html": [
              "<style>\n",
              ".list-inline {list-style: none; margin:0; padding: 0}\n",
              ".list-inline>li {display: inline-block}\n",
              ".list-inline>li:not(:last-child)::after {content: \"\\00b7\"; padding: 0 .5ex}\n",
              "</style>\n",
              "<ol class=list-inline><li>treated</li><li>treated</li><li>control</li><li>control</li><li>control</li><li>treated</li></ol>\n",
              "\n",
              "<details>\n",
              "\t<summary style=display:list-item;cursor:pointer>\n",
              "\t\t<strong>Levels</strong>:\n",
              "\t</summary>\n",
              "\t<style>\n",
              "\t.list-inline {list-style: none; margin:0; padding: 0}\n",
              "\t.list-inline>li {display: inline-block}\n",
              "\t.list-inline>li:not(:last-child)::after {content: \"\\00b7\"; padding: 0 .5ex}\n",
              "\t</style>\n",
              "\t<ol class=list-inline><li>'treated'</li><li>'control'</li></ol>\n",
              "</details>"
            ],
            "text/markdown": "1. treated\n2. treated\n3. control\n4. control\n5. control\n6. treated\n\n\n\n**Levels**: 1. 'treated'\n2. 'control'\n\n\n",
            "text/latex": "\\begin{enumerate*}\n\\item treated\n\\item treated\n\\item control\n\\item control\n\\item control\n\\item treated\n\\end{enumerate*}\n\n\\emph{Levels}: \\begin{enumerate*}\n\\item 'treated'\n\\item 'control'\n\\end{enumerate*}\n",
            "text/plain": [
              "[1] treated treated control control control treated\n",
              "Levels: treated control"
            ]
          },
          "metadata": {}
        }
      ]
    },
    {
      "cell_type": "code",
      "source": [
        "my.vector2 <- rep(3:5, 4)\n",
        "my.vector2\n",
        "## [1] 3 4 5 3 4 5 3 4 5 3 4 5\n",
        "my.factor2 <- factor(my.vector2)\n",
        "my.factor2\n",
        "## [1] 3 4 5 3 4 5 3 4 5 3 4 5\n",
        "## Levels: 3 4 5\n",
        "as.numeric(my.factor2)\n",
        "## [1] 1 2 3 1 2 3 1 2 3 1 2 3\n",
        "as.numeric(as.character(my.factor2))\n",
        "## [1] 3 4 5 3 4 5 3 4 5 3 4 5"
      ],
      "metadata": {
        "colab": {
          "base_uri": "https://localhost:8080/",
          "height": 104
        },
        "id": "6HN-En8S9eb2",
        "outputId": "cb414ace-3256-4812-b2bf-f23b56fef527"
      },
      "execution_count": null,
      "outputs": [
        {
          "output_type": "display_data",
          "data": {
            "text/html": [
              "<style>\n",
              ".list-inline {list-style: none; margin:0; padding: 0}\n",
              ".list-inline>li {display: inline-block}\n",
              ".list-inline>li:not(:last-child)::after {content: \"\\00b7\"; padding: 0 .5ex}\n",
              "</style>\n",
              "<ol class=list-inline><li>3</li><li>4</li><li>5</li><li>3</li><li>4</li><li>5</li><li>3</li><li>4</li><li>5</li><li>3</li><li>4</li><li>5</li></ol>\n"
            ],
            "text/markdown": "1. 3\n2. 4\n3. 5\n4. 3\n5. 4\n6. 5\n7. 3\n8. 4\n9. 5\n10. 3\n11. 4\n12. 5\n\n\n",
            "text/latex": "\\begin{enumerate*}\n\\item 3\n\\item 4\n\\item 5\n\\item 3\n\\item 4\n\\item 5\n\\item 3\n\\item 4\n\\item 5\n\\item 3\n\\item 4\n\\item 5\n\\end{enumerate*}\n",
            "text/plain": [
              " [1] 3 4 5 3 4 5 3 4 5 3 4 5"
            ]
          },
          "metadata": {}
        },
        {
          "output_type": "display_data",
          "data": {
            "text/html": [
              "<style>\n",
              ".list-inline {list-style: none; margin:0; padding: 0}\n",
              ".list-inline>li {display: inline-block}\n",
              ".list-inline>li:not(:last-child)::after {content: \"\\00b7\"; padding: 0 .5ex}\n",
              "</style>\n",
              "<ol class=list-inline><li>3</li><li>4</li><li>5</li><li>3</li><li>4</li><li>5</li><li>3</li><li>4</li><li>5</li><li>3</li><li>4</li><li>5</li></ol>\n",
              "\n",
              "<details>\n",
              "\t<summary style=display:list-item;cursor:pointer>\n",
              "\t\t<strong>Levels</strong>:\n",
              "\t</summary>\n",
              "\t<style>\n",
              "\t.list-inline {list-style: none; margin:0; padding: 0}\n",
              "\t.list-inline>li {display: inline-block}\n",
              "\t.list-inline>li:not(:last-child)::after {content: \"\\00b7\"; padding: 0 .5ex}\n",
              "\t</style>\n",
              "\t<ol class=list-inline><li>'3'</li><li>'4'</li><li>'5'</li></ol>\n",
              "</details>"
            ],
            "text/markdown": "1. 3\n2. 4\n3. 5\n4. 3\n5. 4\n6. 5\n7. 3\n8. 4\n9. 5\n10. 3\n11. 4\n12. 5\n\n\n\n**Levels**: 1. '3'\n2. '4'\n3. '5'\n\n\n",
            "text/latex": "\\begin{enumerate*}\n\\item 3\n\\item 4\n\\item 5\n\\item 3\n\\item 4\n\\item 5\n\\item 3\n\\item 4\n\\item 5\n\\item 3\n\\item 4\n\\item 5\n\\end{enumerate*}\n\n\\emph{Levels}: \\begin{enumerate*}\n\\item '3'\n\\item '4'\n\\item '5'\n\\end{enumerate*}\n",
            "text/plain": [
              " [1] 3 4 5 3 4 5 3 4 5 3 4 5\n",
              "Levels: 3 4 5"
            ]
          },
          "metadata": {}
        },
        {
          "output_type": "display_data",
          "data": {
            "text/html": [
              "<style>\n",
              ".list-inline {list-style: none; margin:0; padding: 0}\n",
              ".list-inline>li {display: inline-block}\n",
              ".list-inline>li:not(:last-child)::after {content: \"\\00b7\"; padding: 0 .5ex}\n",
              "</style>\n",
              "<ol class=list-inline><li>1</li><li>2</li><li>3</li><li>1</li><li>2</li><li>3</li><li>1</li><li>2</li><li>3</li><li>1</li><li>2</li><li>3</li></ol>\n"
            ],
            "text/markdown": "1. 1\n2. 2\n3. 3\n4. 1\n5. 2\n6. 3\n7. 1\n8. 2\n9. 3\n10. 1\n11. 2\n12. 3\n\n\n",
            "text/latex": "\\begin{enumerate*}\n\\item 1\n\\item 2\n\\item 3\n\\item 1\n\\item 2\n\\item 3\n\\item 1\n\\item 2\n\\item 3\n\\item 1\n\\item 2\n\\item 3\n\\end{enumerate*}\n",
            "text/plain": [
              " [1] 1 2 3 1 2 3 1 2 3 1 2 3"
            ]
          },
          "metadata": {}
        },
        {
          "output_type": "display_data",
          "data": {
            "text/html": [
              "<style>\n",
              ".list-inline {list-style: none; margin:0; padding: 0}\n",
              ".list-inline>li {display: inline-block}\n",
              ".list-inline>li:not(:last-child)::after {content: \"\\00b7\"; padding: 0 .5ex}\n",
              "</style>\n",
              "<ol class=list-inline><li>3</li><li>4</li><li>5</li><li>3</li><li>4</li><li>5</li><li>3</li><li>4</li><li>5</li><li>3</li><li>4</li><li>5</li></ol>\n"
            ],
            "text/markdown": "1. 3\n2. 4\n3. 5\n4. 3\n5. 4\n6. 5\n7. 3\n8. 4\n9. 5\n10. 3\n11. 4\n12. 5\n\n\n",
            "text/latex": "\\begin{enumerate*}\n\\item 3\n\\item 4\n\\item 5\n\\item 3\n\\item 4\n\\item 5\n\\item 3\n\\item 4\n\\item 5\n\\item 3\n\\item 4\n\\item 5\n\\end{enumerate*}\n",
            "text/plain": [
              " [1] 3 4 5 3 4 5 3 4 5 3 4 5"
            ]
          },
          "metadata": {}
        }
      ]
    },
    {
      "cell_type": "code",
      "source": [
        "a.list$x\n",
        "## [1] 1 2 3 4 5 6\n",
        "a.list[[\"x\"]]\n",
        "## [1] 1 2 3 4 5 6\n",
        "a.list[[1]]\n",
        "## [1] 1 2 3 4 5 6\n",
        "a.list[\"x\"]\n",
        "## $x\n",
        "## [1] 1 2 3 4 5 6\n",
        "a.list[1]\n",
        "## $x\n",
        "## [1] 1 2 3 4 5 6\n",
        "a.list[c(1,3)]\n",
        "## $x\n",
        "## [1] 1 2 3 4 5 6\n",
        "##\n",
        "## $z\n",
        "## [1] TRUE FALSE\n",
        "try(a.list[[c(1,3)]])\n",
        "## [1] 3\n"
      ],
      "metadata": {
        "colab": {
          "base_uri": "https://localhost:8080/",
          "height": 253
        },
        "id": "9XLeP6LJA_sM",
        "outputId": "6fd82bbc-5350-4c55-d67c-d5e95ca57ff5"
      },
      "execution_count": null,
      "outputs": [
        {
          "output_type": "display_data",
          "data": {
            "text/html": [
              "<style>\n",
              ".list-inline {list-style: none; margin:0; padding: 0}\n",
              ".list-inline>li {display: inline-block}\n",
              ".list-inline>li:not(:last-child)::after {content: \"\\00b7\"; padding: 0 .5ex}\n",
              "</style>\n",
              "<ol class=list-inline><li>1</li><li>2</li><li>3</li><li>4</li><li>5</li><li>6</li></ol>\n"
            ],
            "text/markdown": "1. 1\n2. 2\n3. 3\n4. 4\n5. 5\n6. 6\n\n\n",
            "text/latex": "\\begin{enumerate*}\n\\item 1\n\\item 2\n\\item 3\n\\item 4\n\\item 5\n\\item 6\n\\end{enumerate*}\n",
            "text/plain": [
              "[1] 1 2 3 4 5 6"
            ]
          },
          "metadata": {}
        },
        {
          "output_type": "display_data",
          "data": {
            "text/html": [
              "<style>\n",
              ".list-inline {list-style: none; margin:0; padding: 0}\n",
              ".list-inline>li {display: inline-block}\n",
              ".list-inline>li:not(:last-child)::after {content: \"\\00b7\"; padding: 0 .5ex}\n",
              "</style>\n",
              "<ol class=list-inline><li>1</li><li>2</li><li>3</li><li>4</li><li>5</li><li>6</li></ol>\n"
            ],
            "text/markdown": "1. 1\n2. 2\n3. 3\n4. 4\n5. 5\n6. 6\n\n\n",
            "text/latex": "\\begin{enumerate*}\n\\item 1\n\\item 2\n\\item 3\n\\item 4\n\\item 5\n\\item 6\n\\end{enumerate*}\n",
            "text/plain": [
              "[1] 1 2 3 4 5 6"
            ]
          },
          "metadata": {}
        },
        {
          "output_type": "display_data",
          "data": {
            "text/html": [
              "<style>\n",
              ".list-inline {list-style: none; margin:0; padding: 0}\n",
              ".list-inline>li {display: inline-block}\n",
              ".list-inline>li:not(:last-child)::after {content: \"\\00b7\"; padding: 0 .5ex}\n",
              "</style>\n",
              "<ol class=list-inline><li>1</li><li>2</li><li>3</li><li>4</li><li>5</li><li>6</li></ol>\n"
            ],
            "text/markdown": "1. 1\n2. 2\n3. 3\n4. 4\n5. 5\n6. 6\n\n\n",
            "text/latex": "\\begin{enumerate*}\n\\item 1\n\\item 2\n\\item 3\n\\item 4\n\\item 5\n\\item 6\n\\end{enumerate*}\n",
            "text/plain": [
              "[1] 1 2 3 4 5 6"
            ]
          },
          "metadata": {}
        },
        {
          "output_type": "display_data",
          "data": {
            "text/html": [
              "<strong>$x</strong> = <style>\n",
              ".list-inline {list-style: none; margin:0; padding: 0}\n",
              ".list-inline>li {display: inline-block}\n",
              ".list-inline>li:not(:last-child)::after {content: \"\\00b7\"; padding: 0 .5ex}\n",
              "</style>\n",
              "<ol class=list-inline><li>1</li><li>2</li><li>3</li><li>4</li><li>5</li><li>6</li></ol>\n"
            ],
            "text/markdown": "**$x** = 1. 1\n2. 2\n3. 3\n4. 4\n5. 5\n6. 6\n\n\n",
            "text/latex": "\\textbf{\\$x} = \\begin{enumerate*}\n\\item 1\n\\item 2\n\\item 3\n\\item 4\n\\item 5\n\\item 6\n\\end{enumerate*}\n",
            "text/plain": [
              "$x\n",
              "[1] 1 2 3 4 5 6\n"
            ]
          },
          "metadata": {}
        },
        {
          "output_type": "display_data",
          "data": {
            "text/html": [
              "<strong>$x</strong> = <style>\n",
              ".list-inline {list-style: none; margin:0; padding: 0}\n",
              ".list-inline>li {display: inline-block}\n",
              ".list-inline>li:not(:last-child)::after {content: \"\\00b7\"; padding: 0 .5ex}\n",
              "</style>\n",
              "<ol class=list-inline><li>1</li><li>2</li><li>3</li><li>4</li><li>5</li><li>6</li></ol>\n"
            ],
            "text/markdown": "**$x** = 1. 1\n2. 2\n3. 3\n4. 4\n5. 5\n6. 6\n\n\n",
            "text/latex": "\\textbf{\\$x} = \\begin{enumerate*}\n\\item 1\n\\item 2\n\\item 3\n\\item 4\n\\item 5\n\\item 6\n\\end{enumerate*}\n",
            "text/plain": [
              "$x\n",
              "[1] 1 2 3 4 5 6\n"
            ]
          },
          "metadata": {}
        },
        {
          "output_type": "display_data",
          "data": {
            "text/html": [
              "<dl>\n",
              "\t<dt>$x</dt>\n",
              "\t\t<dd><style>\n",
              ".list-inline {list-style: none; margin:0; padding: 0}\n",
              ".list-inline>li {display: inline-block}\n",
              ".list-inline>li:not(:last-child)::after {content: \"\\00b7\"; padding: 0 .5ex}\n",
              "</style>\n",
              "<ol class=list-inline><li>1</li><li>2</li><li>3</li><li>4</li><li>5</li><li>6</li></ol>\n",
              "</dd>\n",
              "\t<dt>$z</dt>\n",
              "\t\t<dd><style>\n",
              ".list-inline {list-style: none; margin:0; padding: 0}\n",
              ".list-inline>li {display: inline-block}\n",
              ".list-inline>li:not(:last-child)::after {content: \"\\00b7\"; padding: 0 .5ex}\n",
              "</style>\n",
              "<ol class=list-inline><li>TRUE</li><li>FALSE</li></ol>\n",
              "</dd>\n",
              "</dl>\n"
            ],
            "text/markdown": "$x\n:   1. 1\n2. 2\n3. 3\n4. 4\n5. 5\n6. 6\n\n\n\n$z\n:   1. TRUE\n2. FALSE\n\n\n\n\n\n",
            "text/latex": "\\begin{description}\n\\item[\\$x] \\begin{enumerate*}\n\\item 1\n\\item 2\n\\item 3\n\\item 4\n\\item 5\n\\item 6\n\\end{enumerate*}\n\n\\item[\\$z] \\begin{enumerate*}\n\\item TRUE\n\\item FALSE\n\\end{enumerate*}\n\n\\end{description}\n",
            "text/plain": [
              "$x\n",
              "[1] 1 2 3 4 5 6\n",
              "\n",
              "$z\n",
              "[1]  TRUE FALSE\n"
            ]
          },
          "metadata": {}
        },
        {
          "output_type": "display_data",
          "data": {
            "text/html": [
              "3"
            ],
            "text/markdown": "3",
            "text/latex": "3",
            "text/plain": [
              "[1] 3"
            ]
          },
          "metadata": {}
        }
      ]
    },
    {
      "cell_type": "code",
      "source": [
        "nested.list <- list(A = list(\"a\", \"aa\", \"aaa\"), B = list(\"b\", \"bb\"))\n",
        "str(nested.list)\n",
        "nested.list[2:1]\n",
        "nested.list[1]\n",
        "nested.list[[1]][2]\n",
        "nested.list[[1]][[2]]\n",
        "nested.list[2]\n",
        "nested.list[2][[1]]\n",
        "\n",
        "c.vec <- unlist(nested.list)\n",
        "c.vec\n",
        "## A1 A2 A3 B1 B2\n",
        "## \"a\" \"aa\" \"aaa\" \"b\" \"bb\"\n",
        "is.list(nested.list)\n",
        "## [1] TRUE\n",
        "is.list(c.vec)\n",
        "## [1] FALSE\n",
        "mode(nested.list)\n",
        "## [1] \"list\"\n",
        "mode(c.vec)\n",
        "## [1] \"character\"\n",
        "names(nested.list)\n",
        "## [1] \"A\" \"B\"\n",
        "names(c.vec)\n",
        "## [1] \"A1\" \"A2\" \"A3\" \"B1\" \"B2\""
      ],
      "metadata": {
        "colab": {
          "base_uri": "https://localhost:8080/",
          "height": 744
        },
        "id": "Z57IIbW4BOed",
        "outputId": "d51adac3-a082-4e09-ff4d-128ab4db9e18"
      },
      "execution_count": null,
      "outputs": [
        {
          "output_type": "stream",
          "name": "stdout",
          "text": [
            "List of 2\n",
            " $ A:List of 3\n",
            "  ..$ : chr \"a\"\n",
            "  ..$ : chr \"aa\"\n",
            "  ..$ : chr \"aaa\"\n",
            " $ B:List of 2\n",
            "  ..$ : chr \"b\"\n",
            "  ..$ : chr \"bb\"\n"
          ]
        },
        {
          "output_type": "display_data",
          "data": {
            "text/html": [
              "<dl>\n",
              "\t<dt>$B</dt>\n",
              "\t\t<dd><ol>\n",
              "\t<li>'b'</li>\n",
              "\t<li>'bb'</li>\n",
              "</ol>\n",
              "</dd>\n",
              "\t<dt>$A</dt>\n",
              "\t\t<dd><ol>\n",
              "\t<li>'a'</li>\n",
              "\t<li>'aa'</li>\n",
              "\t<li>'aaa'</li>\n",
              "</ol>\n",
              "</dd>\n",
              "</dl>\n"
            ],
            "text/markdown": "$B\n:   1. 'b'\n2. 'bb'\n\n\n\n$A\n:   1. 'a'\n2. 'aa'\n3. 'aaa'\n\n\n\n\n\n",
            "text/latex": "\\begin{description}\n\\item[\\$B] \\begin{enumerate}\n\\item 'b'\n\\item 'bb'\n\\end{enumerate}\n\n\\item[\\$A] \\begin{enumerate}\n\\item 'a'\n\\item 'aa'\n\\item 'aaa'\n\\end{enumerate}\n\n\\end{description}\n",
            "text/plain": [
              "$B\n",
              "$B[[1]]\n",
              "[1] \"b\"\n",
              "\n",
              "$B[[2]]\n",
              "[1] \"bb\"\n",
              "\n",
              "\n",
              "$A\n",
              "$A[[1]]\n",
              "[1] \"a\"\n",
              "\n",
              "$A[[2]]\n",
              "[1] \"aa\"\n",
              "\n",
              "$A[[3]]\n",
              "[1] \"aaa\"\n",
              "\n"
            ]
          },
          "metadata": {}
        },
        {
          "output_type": "display_data",
          "data": {
            "text/html": [
              "<strong>$A</strong> = <ol>\n",
              "\t<li>'a'</li>\n",
              "\t<li>'aa'</li>\n",
              "\t<li>'aaa'</li>\n",
              "</ol>\n"
            ],
            "text/markdown": "**$A** = 1. 'a'\n2. 'aa'\n3. 'aaa'\n\n\n",
            "text/latex": "\\textbf{\\$A} = \\begin{enumerate}\n\\item 'a'\n\\item 'aa'\n\\item 'aaa'\n\\end{enumerate}\n",
            "text/plain": [
              "$A\n",
              "$A[[1]]\n",
              "[1] \"a\"\n",
              "\n",
              "$A[[2]]\n",
              "[1] \"aa\"\n",
              "\n",
              "$A[[3]]\n",
              "[1] \"aaa\"\n",
              "\n"
            ]
          },
          "metadata": {}
        },
        {
          "output_type": "display_data",
          "data": {
            "text/html": [
              "<ol>\n",
              "\t<li>'aa'</li>\n",
              "</ol>\n"
            ],
            "text/markdown": "1. 'aa'\n\n\n",
            "text/latex": "\\begin{enumerate}\n\\item 'aa'\n\\end{enumerate}\n",
            "text/plain": [
              "[[1]]\n",
              "[1] \"aa\"\n"
            ]
          },
          "metadata": {}
        },
        {
          "output_type": "display_data",
          "data": {
            "text/html": [
              "'aa'"
            ],
            "text/markdown": "'aa'",
            "text/latex": "'aa'",
            "text/plain": [
              "[1] \"aa\""
            ]
          },
          "metadata": {}
        },
        {
          "output_type": "display_data",
          "data": {
            "text/html": [
              "<strong>$B</strong> = <ol>\n",
              "\t<li>'b'</li>\n",
              "\t<li>'bb'</li>\n",
              "</ol>\n"
            ],
            "text/markdown": "**$B** = 1. 'b'\n2. 'bb'\n\n\n",
            "text/latex": "\\textbf{\\$B} = \\begin{enumerate}\n\\item 'b'\n\\item 'bb'\n\\end{enumerate}\n",
            "text/plain": [
              "$B\n",
              "$B[[1]]\n",
              "[1] \"b\"\n",
              "\n",
              "$B[[2]]\n",
              "[1] \"bb\"\n",
              "\n"
            ]
          },
          "metadata": {}
        },
        {
          "output_type": "display_data",
          "data": {
            "text/html": [
              "<ol>\n",
              "\t<li>'b'</li>\n",
              "\t<li>'bb'</li>\n",
              "</ol>\n"
            ],
            "text/markdown": "1. 'b'\n2. 'bb'\n\n\n",
            "text/latex": "\\begin{enumerate}\n\\item 'b'\n\\item 'bb'\n\\end{enumerate}\n",
            "text/plain": [
              "[[1]]\n",
              "[1] \"b\"\n",
              "\n",
              "[[2]]\n",
              "[1] \"bb\"\n"
            ]
          },
          "metadata": {}
        },
        {
          "output_type": "display_data",
          "data": {
            "text/html": [
              "<style>\n",
              ".dl-inline {width: auto; margin:0; padding: 0}\n",
              ".dl-inline>dt, .dl-inline>dd {float: none; width: auto; display: inline-block}\n",
              ".dl-inline>dt::after {content: \":\\0020\"; padding-right: .5ex}\n",
              ".dl-inline>dt:not(:first-of-type) {padding-left: .5ex}\n",
              "</style><dl class=dl-inline><dt>A1</dt><dd>'a'</dd><dt>A2</dt><dd>'aa'</dd><dt>A3</dt><dd>'aaa'</dd><dt>B1</dt><dd>'b'</dd><dt>B2</dt><dd>'bb'</dd></dl>\n"
            ],
            "text/markdown": "A1\n:   'a'A2\n:   'aa'A3\n:   'aaa'B1\n:   'b'B2\n:   'bb'\n\n",
            "text/latex": "\\begin{description*}\n\\item[A1] 'a'\n\\item[A2] 'aa'\n\\item[A3] 'aaa'\n\\item[B1] 'b'\n\\item[B2] 'bb'\n\\end{description*}\n",
            "text/plain": [
              "   A1    A2    A3    B1    B2 \n",
              "  \"a\"  \"aa\" \"aaa\"   \"b\"  \"bb\" "
            ]
          },
          "metadata": {}
        },
        {
          "output_type": "display_data",
          "data": {
            "text/html": [
              "TRUE"
            ],
            "text/markdown": "TRUE",
            "text/latex": "TRUE",
            "text/plain": [
              "[1] TRUE"
            ]
          },
          "metadata": {}
        },
        {
          "output_type": "display_data",
          "data": {
            "text/html": [
              "FALSE"
            ],
            "text/markdown": "FALSE",
            "text/latex": "FALSE",
            "text/plain": [
              "[1] FALSE"
            ]
          },
          "metadata": {}
        },
        {
          "output_type": "display_data",
          "data": {
            "text/html": [
              "'list'"
            ],
            "text/markdown": "'list'",
            "text/latex": "'list'",
            "text/plain": [
              "[1] \"list\""
            ]
          },
          "metadata": {}
        },
        {
          "output_type": "display_data",
          "data": {
            "text/html": [
              "'character'"
            ],
            "text/markdown": "'character'",
            "text/latex": "'character'",
            "text/plain": [
              "[1] \"character\""
            ]
          },
          "metadata": {}
        },
        {
          "output_type": "display_data",
          "data": {
            "text/html": [
              "<style>\n",
              ".list-inline {list-style: none; margin:0; padding: 0}\n",
              ".list-inline>li {display: inline-block}\n",
              ".list-inline>li:not(:last-child)::after {content: \"\\00b7\"; padding: 0 .5ex}\n",
              "</style>\n",
              "<ol class=list-inline><li>'A'</li><li>'B'</li></ol>\n"
            ],
            "text/markdown": "1. 'A'\n2. 'B'\n\n\n",
            "text/latex": "\\begin{enumerate*}\n\\item 'A'\n\\item 'B'\n\\end{enumerate*}\n",
            "text/plain": [
              "[1] \"A\" \"B\""
            ]
          },
          "metadata": {}
        },
        {
          "output_type": "display_data",
          "data": {
            "text/html": [
              "<style>\n",
              ".list-inline {list-style: none; margin:0; padding: 0}\n",
              ".list-inline>li {display: inline-block}\n",
              ".list-inline>li:not(:last-child)::after {content: \"\\00b7\"; padding: 0 .5ex}\n",
              "</style>\n",
              "<ol class=list-inline><li>'A1'</li><li>'A2'</li><li>'A3'</li><li>'B1'</li><li>'B2'</li></ol>\n"
            ],
            "text/markdown": "1. 'A1'\n2. 'A2'\n3. 'A3'\n4. 'B1'\n5. 'B2'\n\n\n",
            "text/latex": "\\begin{enumerate*}\n\\item 'A1'\n\\item 'A2'\n\\item 'A3'\n\\item 'B1'\n\\item 'B2'\n\\end{enumerate*}\n",
            "text/plain": [
              "[1] \"A1\" \"A2\" \"A3\" \"B1\" \"B2\""
            ]
          },
          "metadata": {}
        }
      ]
    },
    {
      "cell_type": "code",
      "source": [
        "a.df <- data.frame(x = 1:6, y = \"a\", z = c(TRUE, FALSE))\n",
        "a.df\n",
        "## x y z\n",
        "## 1 1 a TRUE\n",
        "## 2 2 a FALSE\n",
        "## 3 3 a TRUE\n",
        "## 4 4 a FALSE\n",
        "## 5 5 a TRUE\n",
        "## 6 6 a FALSE\n",
        "str(a.df)\n",
        "## 'data.frame': 6 obs. of 3 variables:\n",
        "## $ x: int 1 2 3 4 5 6\n",
        "## $ y: chr \"a\" \"a\" \"a\" \"a\" ...\n",
        "## $ z: logi TRUE FALSE TRUE FALSE TRUE FALSE\n",
        "class(a.df)"
      ],
      "metadata": {
        "id": "o6WzjrarBqYQ",
        "outputId": "eb79d767-6721-426e-b436-05915d179425",
        "colab": {
          "base_uri": "https://localhost:8080/",
          "height": 373
        }
      },
      "execution_count": null,
      "outputs": [
        {
          "output_type": "display_data",
          "data": {
            "text/html": [
              "<table class=\"dataframe\">\n",
              "<caption>A data.frame: 6 × 3</caption>\n",
              "<thead>\n",
              "\t<tr><th scope=col>x</th><th scope=col>y</th><th scope=col>z</th></tr>\n",
              "\t<tr><th scope=col>&lt;int&gt;</th><th scope=col>&lt;chr&gt;</th><th scope=col>&lt;lgl&gt;</th></tr>\n",
              "</thead>\n",
              "<tbody>\n",
              "\t<tr><td>1</td><td>a</td><td> TRUE</td></tr>\n",
              "\t<tr><td>2</td><td>a</td><td>FALSE</td></tr>\n",
              "\t<tr><td>3</td><td>a</td><td> TRUE</td></tr>\n",
              "\t<tr><td>4</td><td>a</td><td>FALSE</td></tr>\n",
              "\t<tr><td>5</td><td>a</td><td> TRUE</td></tr>\n",
              "\t<tr><td>6</td><td>a</td><td>FALSE</td></tr>\n",
              "</tbody>\n",
              "</table>\n"
            ],
            "text/markdown": "\nA data.frame: 6 × 3\n\n| x &lt;int&gt; | y &lt;chr&gt; | z &lt;lgl&gt; |\n|---|---|---|\n| 1 | a |  TRUE |\n| 2 | a | FALSE |\n| 3 | a |  TRUE |\n| 4 | a | FALSE |\n| 5 | a |  TRUE |\n| 6 | a | FALSE |\n\n",
            "text/latex": "A data.frame: 6 × 3\n\\begin{tabular}{lll}\n x & y & z\\\\\n <int> & <chr> & <lgl>\\\\\n\\hline\n\t 1 & a &  TRUE\\\\\n\t 2 & a & FALSE\\\\\n\t 3 & a &  TRUE\\\\\n\t 4 & a & FALSE\\\\\n\t 5 & a &  TRUE\\\\\n\t 6 & a & FALSE\\\\\n\\end{tabular}\n",
            "text/plain": [
              "  x y z    \n",
              "1 1 a  TRUE\n",
              "2 2 a FALSE\n",
              "3 3 a  TRUE\n",
              "4 4 a FALSE\n",
              "5 5 a  TRUE\n",
              "6 6 a FALSE"
            ]
          },
          "metadata": {}
        },
        {
          "output_type": "stream",
          "name": "stdout",
          "text": [
            "'data.frame':\t6 obs. of  3 variables:\n",
            " $ x: int  1 2 3 4 5 6\n",
            " $ y: chr  \"a\" \"a\" \"a\" \"a\" ...\n",
            " $ z: logi  TRUE FALSE TRUE FALSE TRUE FALSE\n"
          ]
        },
        {
          "output_type": "display_data",
          "data": {
            "text/html": [
              "'data.frame'"
            ],
            "text/markdown": "'data.frame'",
            "text/latex": "'data.frame'",
            "text/plain": [
              "[1] \"data.frame\""
            ]
          },
          "metadata": {}
        }
      ]
    }
  ]
}